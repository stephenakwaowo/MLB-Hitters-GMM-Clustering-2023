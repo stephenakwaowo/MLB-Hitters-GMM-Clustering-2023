{
 "cells": [
  {
   "cell_type": "code",
   "execution_count": 9,
   "id": "df3844ff",
   "metadata": {
    "scrolled": true
   },
   "outputs": [
    {
     "name": "stdout",
     "output_type": "stream",
     "text": [
      "Correlation with oWAR:\n",
      " wRC+_x    0.861531\n",
      "HR_x      0.620888\n",
      "BB/K      0.467684\n",
      "ISO       0.627497\n",
      "Name: oWAR, dtype: float64\n",
      "Weights for composite score:\n",
      " wRC+_x    0.334238\n",
      "HR_x      0.240879\n",
      "BB/K      0.181441\n",
      "ISO       0.243442\n",
      "Name: oWAR, dtype: float64\n"
     ]
    },
    {
     "name": "stderr",
     "output_type": "stream",
     "text": [
      "/var/folders/ft/2w6drxm14q597vm6scyknhc40000gn/T/ipykernel_34416/340781613.py:84: SettingWithCopyWarning: \n",
      "A value is trying to be set on a copy of a slice from a DataFrame\n",
      "\n",
      "See the caveats in the documentation: https://pandas.pydata.org/pandas-docs/stable/user_guide/indexing.html#returning-a-view-versus-a-copy\n",
      "  bonds_index_leaderboard.rename(columns={'Adjusted Scaling': 'BONDS Index'}, inplace=True)\n"
     ]
    }
   ],
   "source": [
    "import pandas as pd\n",
    "\n",
    "# File paths\n",
    "hitters_file = \"/Users/stephenak24/Downloads/2023_hitters.csv\"\n",
    "merged_success_file = \"/Users/stephenak24/Downloads/merged_success_v2.csv\"\n",
    "oppo_fb_file = \"/Users/stephenak24/Downloads/oppo_flyball_2023.csv\"\n",
    "pulled_fb_file = \"/Users/stephenak24/Downloads/pulled_flyball_2023.csv\"\n",
    "straightaway_fb_file = \"/Users/stephenak24/Downloads/straightaway_flyball_2023.csv\"\n",
    "owar_file = \"/Users/stephenak24/Downloads/baseball_2023_war.csv\"\n",
    "\n",
    "hitters_data = pd.read_csv(hitters_file)\n",
    "merged_success_data = pd.read_csv(merged_success_file)\n",
    "oppo_fb_data = pd.read_csv(oppo_fb_file)\n",
    "pulled_fb_data = pd.read_csv(pulled_fb_file)\n",
    "straightaway_fb_data = pd.read_csv(straightaway_fb_file)\n",
    "owar_data = pd.read_csv(owar_file)\n",
    "\n",
    "# Rename 'player_Id' to 'player_id'\n",
    "hitters_data.rename(columns={'player_Id': 'player_id'}, inplace=True)\n",
    "\n",
    "# Merge datasets on 'player_id' and 'Name'\n",
    "merged_final_data = pd.merge(hitters_data, merged_success_data, on=['Name', 'player_id'], how='inner')\n",
    "merged_final_data = pd.merge(merged_final_data, oppo_fb_data[['player_id', 'oppo_fb%']], on='player_id', how='left')\n",
    "merged_final_data = pd.merge(merged_final_data, pulled_fb_data[['player_id', 'pulled_fb%']], on='player_id', how='left')\n",
    "merged_final_data = pd.merge(merged_final_data, straightaway_fb_data[['player_id', 'straightaway_fb%']], on='player_id', how='left')\n",
    "merged_final_data = pd.merge(merged_final_data, owar_data[['player_id', 'oWAR']], on='player_id', how='left')\n",
    "\n",
    "# Define the columns to include in the correlation analysis\n",
    "metrics = ['wRC+_x', 'HR_x', 'BB/K', 'ISO']\n",
    "\n",
    "# Perform correlation analysis with oWAR\n",
    "correlations = merged_final_data[metrics + ['oWAR']].corr()['oWAR'].drop('oWAR')\n",
    "print(\"Correlation with oWAR:\\n\", correlations)\n",
    "\n",
    "# Normalize the correlations to use as weights\n",
    "weights = correlations / correlations.sum()\n",
    "print(\"Weights for composite score:\\n\", weights)\n",
    "\n",
    "# Calculate the weighted sum composite score\n",
    "merged_final_data['Composite_Score'] = (\n",
    "    merged_final_data['wRC+_x'] * weights['wRC+_x'] +\n",
    "    merged_final_data['HR_x'] * weights['HR_x'] +\n",
    "    merged_final_data['BB/K'] * weights['BB/K'] +\n",
    "    merged_final_data['ISO'] * weights['ISO']\n",
    ")\n",
    "\n",
    "\n",
    "# Define the weights for each metric in the BONDS Index, including the composite score\n",
    "bonds_weights = {\n",
    "    'Brls/BBE%': 0.25,\n",
    "    '50th_max_velo': 0.20,\n",
    "    'O-Swing%_x': -0.15,\n",
    "    'SwStr%_x': -0.10,\n",
    "    'Z-Swing%': 0.05,\n",
    "    'Z-Contact%_y': 0.10,\n",
    "    'pulled_fb%': 0.15,\n",
    "    'straightaway_fb%': 0.10,\n",
    "    'oppo_fb%': -0.05,\n",
    "    'Composite_Score': 0.50\n",
    "}\n",
    "\n",
    "# Calculate the BONDS Index for each player including the composite score\n",
    "merged_final_data['BONDS_Index'] = (\n",
    "    merged_final_data['Brls/BBE%'] * bonds_weights['Brls/BBE%'] +\n",
    "    merged_final_data['50th_max_velo'] * bonds_weights['50th_max_velo'] +\n",
    "    (1 - merged_final_data['O-Swing%_x']) * bonds_weights['O-Swing%_x'] +\n",
    "    (1 - merged_final_data['SwStr%_x']) * bonds_weights['SwStr%_x'] +\n",
    "    merged_final_data['Z-Swing%'] * bonds_weights['Z-Swing%'] +\n",
    "    merged_final_data['Z-Contact%_y'] * bonds_weights['Z-Contact%_y'] +\n",
    "    merged_final_data['pulled_fb%'] * bonds_weights['pulled_fb%'] +\n",
    "    merged_final_data['straightaway_fb%'] * bonds_weights['straightaway_fb%'] +\n",
    "    (1 - merged_final_data['oppo_fb%']) * bonds_weights['oppo_fb%'] +\n",
    "    merged_final_data['Composite_Score'] * bonds_weights['Composite_Score']\n",
    ")\n",
    "\n",
    "# Apply the adjusted scaling for the BONDS Index\n",
    "range_bonds_index = merged_final_data['BONDS_Index'].max() - merged_final_data['BONDS_Index'].min()\n",
    "mean_bonds_index = merged_final_data['BONDS_Index'].mean()\n",
    "merged_final_data['Adjusted Scaling'] = 50 + ((merged_final_data['BONDS_Index'] - mean_bonds_index) / range_bonds_index) * 50\n",
    "\n",
    "bonds_index_leaderboard = merged_final_data[['Name', 'player_id', 'Adjusted Scaling']]\n",
    "bonds_index_leaderboard.rename(columns={'Adjusted Scaling': 'BONDS Index'}, inplace=True)\n",
    "\n",
    "# Save the final dataframe to a CSV file\n",
    "output_file_path = \"/Users/stephenak24/Downloads/BONDS_Index_Leaderboard.csv\"\n",
    "bonds_index_leaderboard.to_csv(output_file_path, index=False)\n"
   ]
  },
  {
   "cell_type": "code",
   "execution_count": null,
   "id": "472f51b6",
   "metadata": {},
   "outputs": [],
   "source": [
    "# composite_weights = {\n",
    "#    'wRC+_x': 0.334238,\n",
    "#    'HR_x': 0.240879,\n",
    "#    'BB/K': 0.181441,\n",
    "#    'ISO': 0.243442"
   ]
  }
 ],
 "metadata": {
  "kernelspec": {
   "display_name": "Python 3 (ipykernel)",
   "language": "python",
   "name": "python3"
  },
  "language_info": {
   "codemirror_mode": {
    "name": "ipython",
    "version": 3
   },
   "file_extension": ".py",
   "mimetype": "text/x-python",
   "name": "python",
   "nbconvert_exporter": "python",
   "pygments_lexer": "ipython3",
   "version": "3.11.5"
  }
 },
 "nbformat": 4,
 "nbformat_minor": 5
}
